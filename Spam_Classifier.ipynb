{
  "nbformat": 4,
  "nbformat_minor": 0,
  "metadata": {
    "colab": {
      "provenance": []
    },
    "kernelspec": {
      "name": "python3",
      "display_name": "Python 3"
    },
    "language_info": {
      "name": "python"
    }
  },
  "cells": [
    {
      "cell_type": "markdown",
      "source": [
        "Dataset is available at: https://www.kaggle.com/uciml/sms-spam-collection-dataset"
      ],
      "metadata": {
        "id": "5qfVjzCjSlhm"
      }
    },
    {
      "cell_type": "markdown",
      "source": [
        "#Downloading necessary Libraries"
      ],
      "metadata": {
        "id": "pAeEjtkVPwRY"
      }
    },
    {
      "cell_type": "code",
      "execution_count": null,
      "metadata": {
        "id": "deyXiL1-Ndgb"
      },
      "outputs": [],
      "source": [
        "!pip install scikit-learn nltk\n",
        "!pip install matplotlib\n"
      ]
    },
    {
      "cell_type": "code",
      "source": [
        "import pandas as pd\n",
        "from sklearn.model_selection import train_test_split\n",
        "from sklearn.feature_extraction.text import CountVectorizer\n",
        "from sklearn.naive_bayes import MultinomialNB\n",
        "from sklearn.metrics import accuracy_score, confusion_matrix\n",
        "\n"
      ],
      "metadata": {
        "id": "ZiRbt_cxN9o1"
      },
      "execution_count": 17,
      "outputs": []
    },
    {
      "cell_type": "markdown",
      "source": [
        "# Load the dataset and Convert labels to binary\n",
        "\n",
        "\n"
      ],
      "metadata": {
        "id": "tgIsHnHqQCrb"
      }
    },
    {
      "cell_type": "code",
      "source": [
        "\n",
        "data = pd.read_csv('/content/spam.csv', encoding='latin-1')\n",
        "data = data[['v1', 'v2']]\n",
        "data.columns = ['label', 'message']\n",
        "\n",
        "data['label'] = data['label'].map({'ham': 0, 'spam': 1})\n",
        "\n",
        "X_train, X_test, y_train, y_test = train_test_split(data['message'], data['label'], test_size=0.2, random_state=42)\n"
      ],
      "metadata": {
        "id": "kNPI4CEKP6CX"
      },
      "execution_count": 18,
      "outputs": []
    },
    {
      "cell_type": "markdown",
      "source": [
        "# Text preprocessing"
      ],
      "metadata": {
        "id": "LmdBhUyRQAok"
      }
    },
    {
      "cell_type": "code",
      "source": [
        "\n",
        "vectorizer = CountVectorizer()\n",
        "X_train_vectorized = vectorizer.fit_transform(X_train)\n",
        "X_test_vectorized = vectorizer.transform(X_test)\n"
      ],
      "metadata": {
        "id": "g0HA3dbCP_cO"
      },
      "execution_count": 19,
      "outputs": []
    },
    {
      "cell_type": "markdown",
      "source": [
        "# Train a Naive Bayes classifier and Make predictions on the test set"
      ],
      "metadata": {
        "id": "angRThnFQLhT"
      }
    },
    {
      "cell_type": "code",
      "source": [
        "\n",
        "classifier = MultinomialNB()\n",
        "classifier.fit(X_train_vectorized, y_train)\n",
        "\n",
        "predictions = classifier.predict(X_test_vectorized)"
      ],
      "metadata": {
        "id": "5qdRf5j8QPxx"
      },
      "execution_count": 20,
      "outputs": []
    },
    {
      "cell_type": "markdown",
      "source": [
        "# Evaluate the classifier"
      ],
      "metadata": {
        "id": "9I_S4CsiQQ2k"
      }
    },
    {
      "cell_type": "code",
      "source": [
        "accuracy = accuracy_score(y_test, predictions)\n",
        "conf_matrix = confusion_matrix(y_test, predictions)\n",
        "\n",
        "print(\"Accuracy:\", accuracy)\n",
        "print(\"Confusion Matrix:\")\n",
        "print(conf_matrix)\n"
      ],
      "metadata": {
        "colab": {
          "base_uri": "https://localhost:8080/"
        },
        "id": "rW-Y49xoOIvg",
        "outputId": "bfe479d2-fd60-4bc4-f697-c10a9bdf5d6b"
      },
      "execution_count": 21,
      "outputs": [
        {
          "output_type": "stream",
          "name": "stdout",
          "text": [
            "Accuracy: 0.9838565022421525\n",
            "Confusion Matrix:\n",
            "[[963   2]\n",
            " [ 16 134]]\n"
          ]
        }
      ]
    },
    {
      "cell_type": "markdown",
      "source": [
        "\n",
        "# Visualize the data"
      ],
      "metadata": {
        "id": "tBKAE74pRju1"
      }
    },
    {
      "cell_type": "code",
      "source": [
        "import matplotlib.pyplot as plt\n",
        "import seaborn as sns\n",
        "\n",
        "plt.figure(figsize=(8, 6))\n",
        "sns.heatmap(conf_matrix, annot=True, fmt=\"d\", cmap=\"Blues\")\n",
        "plt.title(\"Confusion Matrix\")\n",
        "plt.xlabel(\"Predicted\")\n",
        "plt.ylabel(\"Actual\")\n",
        "plt.show()\n",
        "\n"
      ],
      "metadata": {
        "colab": {
          "base_uri": "https://localhost:8080/",
          "height": 564
        },
        "id": "iKlzFKAKRglt",
        "outputId": "88635e9e-4a46-4f32-a833-1b73c4c8298e"
      },
      "execution_count": 30,
      "outputs": [
        {
          "output_type": "display_data",
          "data": {
            "text/plain": [
              "<Figure size 800x600 with 2 Axes>"
            ],
            "image/png": "[encoded data removed]"
          },
          "metadata": {}
        }
      ]
    },
    {
      "cell_type": "code",
      "source": [
        "plt.figure(figsize=(6, 4))\n",
        "data['label'].value_counts().plot(kind='bar', color=['skyblue', 'orange'])\n",
        "plt.title(\"Distribution of Spam and Ham Messages\")\n",
        "plt.xlabel(\"Label\")\n",
        "plt.ylabel(\"Count\")\n",
        "plt.xticks([0, 1], ['Ham', 'Spam'], rotation=0)\n",
        "plt.show()\n"
      ],
      "metadata": {
        "colab": {
          "base_uri": "https://localhost:8080/",
          "height": 410
        },
        "id": "n-0RMgBBRtp6",
        "outputId": "0cbb4153-355c-49a2-ef00-9b0af190f203"
      },
      "execution_count": 31,
      "outputs": [
        {
          "output_type": "display_data",
          "data": {
            "text/plain": [
              "<Figure size 600x400 with 1 Axes>"
            ],
            "image/png": "[encoded data removed]"
          },
          "metadata": {}
        }
      ]
    },
    {
      "cell_type": "markdown",
      "source": [
        "#Use Our trained classifier to classify sentence as either not spam or spam"
      ],
      "metadata": {
        "id": "d0JhIWz8QZwR"
      }
    },
    {
      "cell_type": "code",
      "source": [
        "def classify_message(message):\n",
        "    message_vectorized = vectorizer.transform([message])\n",
        "    prediction = classifier.predict(message_vectorized)\n",
        "    return \"spam\" if prediction[0] == 1 else \"not-spam\""
      ],
      "metadata": {
        "id": "7huKPnwZQq0w"
      },
      "execution_count": 25,
      "outputs": []
    },
    {
      "cell_type": "markdown",
      "source": [
        "#Spam Example"
      ],
      "metadata": {
        "id": "0cfmjj2QQl22"
      }
    },
    {
      "cell_type": "code",
      "source": [
        "\n",
        "new_message = \"Congratulations, you've won a free gift!\"\n",
        "result = classify_message(new_message)\n",
        "print(f\"The message is classified as: {result}\")\n"
      ],
      "metadata": {
        "colab": {
          "base_uri": "https://localhost:8080/"
        },
        "id": "3CmftvtrONVy",
        "outputId": "e397992a-cf69-4c0b-b962-6771e9ae3b02"
      },
      "execution_count": 26,
      "outputs": [
        {
          "output_type": "stream",
          "name": "stdout",
          "text": [
            "The message is classified as: spam\n"
          ]
        }
      ]
    },
    {
      "cell_type": "markdown",
      "source": [
        "#Not Spam Example"
      ],
      "metadata": {
        "id": "ECnm51XAQs1w"
      }
    },
    {
      "cell_type": "code",
      "source": [
        "\n",
        "\n",
        "new_message = \"Hello, I hope you're having a great day and enjoying the beautiful weather!\"\n",
        "result = classify_message(new_message)\n",
        "print(f\"The message is classified as: {result}\")\n"
      ],
      "metadata": {
        "colab": {
          "base_uri": "https://localhost:8080/"
        },
        "id": "F-zVFInCOkE2",
        "outputId": "439a3cb0-2919-47da-9d4c-75caadb1c570"
      },
      "execution_count": 27,
      "outputs": [
        {
          "output_type": "stream",
          "name": "stdout",
          "text": [
            "The message is classified as: not-spam\n"
          ]
        }
      ]
    }
  ]
}